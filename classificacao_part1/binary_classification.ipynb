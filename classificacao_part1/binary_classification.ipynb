{
 "cells": [
  {
   "cell_type": "markdown",
   "metadata": {},
   "source": [
    "# Aprendizagem Automática - Classificação Parte 1\n",
    "##  Gonçalo Marques 92630\n",
    "##  Rita Leite 92646\n",
    "\n",
    "### 6 novembro 2021"
   ]
  },
  {
   "cell_type": "code",
   "execution_count": 26,
   "metadata": {},
   "outputs": [],
   "source": [
    "import numpy as np\n",
    "import seaborn as sn\n",
    "import pandas as pd\n",
    "import random\n",
    "import matplotlib.pyplot as plt\n",
    "\n",
    "#sklearn\n",
    "import sklearn as sk\n",
    "from sklearn import svm\n",
    "from sklearn.metrics import confusion_matrix, accuracy_score, balanced_accuracy_score, roc_curve, auc\n",
    "from sklearn.model_selection import train_test_split\n",
    "\n",
    "#tensorflow, keras\n",
    "import tensorflow as tf\n",
    "from tensorflow import keras\n",
    "from tensorflow.keras.models import Sequential, load_model\n",
    "from tensorflow.keras.layers import Activation, Dense, Conv2D, MaxPool2D, Flatten, Dropout\n",
    "from tensorflow.keras.optimizers import RMSprop\n",
    "from tensorflow.keras.callbacks import EarlyStopping\n",
    "from tensorflow.keras.metrics import categorical_crossentropy\n",
    "from tensorflow.keras.optimizers.schedules import ExponentialDecay\n",
    "from tensorflow.keras.preprocessing.image import ImageDataGenerator\n",
    "from tensorflow.keras.preprocessing import image"
   ]
  },
  {
   "cell_type": "markdown",
   "metadata": {},
   "source": [
    "# Read Data"
   ]
  },
  {
   "cell_type": "code",
   "execution_count": 2,
   "metadata": {},
   "outputs": [],
   "source": [
    "X = np.load(\"C:\\\\Users\\\\gfmm2\\\\Desktop\\\\P1\\\\AAut\\\\Projeto\\\\Classificação - Parte 1\\\\Xtrain_Classification_Part1.npy\")\n",
    "Y = np.load(\"C:\\\\Users\\\\gfmm2\\\\Desktop\\\\P1\\\\AAut\\\\Projeto\\\\Classificação - Parte 1\\\\Ytrain_Classification_Part1.npy\")\n",
    "XTrue = np.load(\"C:\\\\Users\\\\gfmm2\\\\Desktop\\\\P1\\\\AAut\\\\Projeto\\\\Classificação - Parte 1\\\\Xtest_Classification_Part1.npy\")\n",
    "\n",
    "# Reshape and Normalize\n",
    "X = np.reshape(X, [6470, 50, 50,1])\n",
    "X = X/255\n",
    "XTrue = np.reshape(XTrue, [1164, 50, 50,1])\n",
    "XTrue = XTrue/255\n",
    "\n",
    "# Train / Test\n",
    "Xtest = X[-1294:]\n",
    "Ytest = Y[-1294:]"
   ]
  },
  {
   "cell_type": "markdown",
   "metadata": {},
   "source": [
    "# Visualize"
   ]
  },
  {
   "cell_type": "code",
   "execution_count": 73,
   "metadata": {
    "scrolled": true
   },
   "outputs": [
    {
     "data": {
      "text/plain": [
       "<matplotlib.image.AxesImage at 0x246abe12430>"
      ]
     },
     "execution_count": 73,
     "metadata": {},
     "output_type": "execute_result"
    },
    {
     "data": {
      "image/png": "[encoded data removed]",
      "text/plain": [
       "<Figure size 432x288 with 1 Axes>"
      ]
     },
     "metadata": {
      "needs_background": "light"
     },
     "output_type": "display_data"
    }
   ],
   "source": [
    "plt.imshow(X[420], cmap='gray')"
   ]
  },
  {
   "cell_type": "markdown",
   "metadata": {},
   "source": [
    "# Generate New Images (Not Used!)"
   ]
  },
  {
   "cell_type": "code",
   "execution_count": 27,
   "metadata": {},
   "outputs": [
    {
     "data": {
      "image/png": "[encoded data removed]",
      "text/plain": [
       "<Figure size 432x288 with 1 Axes>"
      ]
     },
     "metadata": {
      "needs_background": "light"
     },
     "output_type": "display_data"
    }
   ],
   "source": [
    "plus = [3959, 3752,  870, 2035, 3151, 3641, 3779, 3801, 4963, 4926, 4640, 2691, 4530,  443, 4078,  902, 2175, 1347,  550, 1113, 2027, 4787,1970, 4200, 4553, 4407, 1528, 1688, 1654, 4524,  955, 4727, 1967,4208, 1569, 1942,  469, 4616, 5122, 3462, 1320, 1364, 3457,  159,2062, 3653, 1679, 4996, 4849,  637, 2973, 3842, 3373, 4835,  204,2673, 2522, 2569, 4557, 4621, 2219,  174, 2531, 3615, 3898,  390,5143, 2457, 4360,  194, 4116, 1997, 1771, 4336, 2739,  320, 2667,2978,  104, 4236,  134,  487, 2476,  715, 3920, 3553, 1681, 2884,2087, 2779, 1954, 1526, 2809,  517, 4357, 2702, 5167, 3305, 1615,4686, 1519, 2719, 1747, 4920, 2801, 3498, 4042, 3034,  474, 3542,1484, 4092, 3975, 4694, 2992,  153, 4024, 2077, 4817, 1893, 5099, 284, 4259,  359, 4166, 2049, 2268,  538, 1811, 4149, 1737, 3799,3236, 1084, 4521, 5041,  888, 4764, 5101, 4132,  364, 4005, 1851,3860, 1736, 1388,  168, 5065,  368, 4839,  551,  881,  131, 4612,3443, 4758, 4322,  626, 1437, 4726, 4899, 1902,    6, 4987, 3969, 454,  769, 2838, 4909, 2307, 3297, 3590,  865,  315, 1462, 4201,2434, 3219, 4183, 5016, 3390, 4059,  640, 2695, 5171, 2382, 1783,3293, 1895, 1149, 2763, 1033,  353, 3552, 3978, 2176, 2740, 4998,1074, 4402, 1086, 3789, 1647, 2448, 3716, 2386, 3647, 3015, 3747,5008, 2444, 3855, 1563, 2127, 1393, 4414,  196,  227,  825,  250,4840,  846,  836, 4398, 3532, 3990, 1527, 1105, 4311,   12, 2728,1311, 2856, 4478, 1585, 3162, 3650, 1978,  705, 2377,  466,  130,1172,  917,   83, 3000, 3130,  980,  502, 1141, 1461, 2612, 3652,3931, 3048, 3894, 2547, 1521, 4609, 4763,  570, 1602, 2812, 2439,3758,  750, 2058,  831,  820, 3198,  744,  854,  898, 1250, 4348, 968,  527, 1896, 1961, 3470, 3528, 1916, 4865, 2450, 2142, 2034,1173, 3853, 2044, 4531,  520, 3102, 1532, 2687, 4901, 2036, 1219,4120, 1537, 4939, 4000, 3064,  270, 3493, 1758, 4664, 2993,  962,1646,  788, 4224, 4636, 2361, 2048, 1235, 4416,  824, 1196, 1940,3534, 4479, 2638, 1144, 1225, 2752, 2736, 2817, 4739,  163,  150,2958, 2407,  200, 1945, 4302, 1872,  606, 2637, 2033, 3150,  579, 531, 1767, 2441, 2396, 4889,  762, 5068,  700,  501, 1965, 2385,3628, 2111, 3577, 2458, 1216, 4705, 1738, 3775, 2126, 2374,  616,4055,  808, 2431, 2262, 1331, 1725,  826, 3232, 4352, 1278, 2225, 592, 4328,  848, 1133, 4215,  486,  952, 3028, 3709, 4949, 2780,3625, 4940,  382, 1252, 1414,  245,  678, 2309, 1511,  688, 1328,1478, 3890, 1269, 4556, 5092, 2709, 2278, 1641,  736, 2796, 5135,4044, 2913, 3713, 4017, 3439, 4297, 3436,  674, 2115, 3744, 2794, 263, 3985,  504,   55,  224,  573, 1163, 4041, 3685, 4206, 4383,5170, 3538, 4712, 3820, 4325, 3107,   54,  953, 5129, 5109, 3268, 400, 1345, 4469, 1463, 5070, 1544, 2160, 2095,  415, 1446,  990,2456, 3103, 3408,  829, 3911, 4496, 1090, 3774, 2811, 3252, 2243,3374, 3306, 3289,  182, 3376, 3174,  556, 3338, 2054, 1508, 3554,3968,  511,  125, 1634, 1998, 2269, 4253, 4994,  115, 1705, 1696,1300, 1568, 4566, 3131, 4243, 3223, 2182, 2842, 3467,  749,  650,5168, 1236, 3944, 3240, 4118]\n",
    "Yplus = Y[plus]\n",
    "Xplus = X[plus]\n",
    "\n",
    "datagen = ImageDataGenerator(\n",
    "    rotation_range=40,\n",
    "    width_shift_range=0.2,\n",
    "    height_shift_range=0.2,\n",
    "    shear_range=0.2,\n",
    "    zoom_range=0.2,\n",
    "    horizontal_flip=True\n",
    ")\n",
    "\n",
    "Xplus2 = []\n",
    "for j in range(len(Xplus)):\n",
    "    img = Xplus[j]\n",
    "    img = img.reshape((1,) + img.shape) \n",
    "    i=0\n",
    "    for batch in datagen.flow(img, batch_size=1):\n",
    "        plt.figure(i)\n",
    "        imgplot = plt.imshow(image.array_to_img(batch[0]))\n",
    "        i += 1\n",
    "        if i == 1:\n",
    "            break\n",
    "    Xplus2.append(batch[0])\n",
    "Xplus2 = np.array(Xplus2)"
   ]
  },
  {
   "cell_type": "markdown",
   "metadata": {},
   "source": [
    "# SVM"
   ]
  },
  {
   "cell_type": "code",
   "execution_count": 82,
   "metadata": {},
   "outputs": [],
   "source": [
    "X2 = np.load(\"C:\\\\Users\\\\gfmm2\\\\Desktop\\\\P1\\\\AAut\\\\Projeto\\\\Classificação - Parte 1\\\\Xtrain_Classification_Part1.npy\")\n",
    "Y2 = np.load(\"C:\\\\Users\\\\gfmm2\\\\Desktop\\\\P1\\\\AAut\\\\Projeto\\\\Classificação - Parte 1\\\\Ytrain_Classification_Part1.npy\")\n",
    "Xtrain2, Xtest2, Ytrain2, Ytest2 = train_test_split(X2, Y2, test_size=0.2, random_state=23)\n",
    "\n",
    "clf = svm.SVC(kernel='rbf')\n",
    "SVC = clf.fit(Xtrain2, Ytrain2)"
   ]
  },
  {
   "cell_type": "code",
   "execution_count": 81,
   "metadata": {},
   "outputs": [
    {
     "name": "stdout",
     "output_type": "stream",
     "text": [
      "Accuracy          ->  0.913447 %\n",
      "Balanced Accuracy ->  0.91217 %\n"
     ]
    }
   ],
   "source": [
    "Ytest_pred_SVC = clf.predict(Xtest2)\n",
    "AccSVM = accuracy_score(Ytest2, Ytest_pred_SVC)\n",
    "BAccSVM = balanced_accuracy_score(Ytest2, Ytest_pred_SVC)\n",
    "print(\"Accuracy          -> \", np.round(AccSVM, 6), \"%\")\n",
    "print(\"Balanced Accuracy -> \", np.round(BAccSVM, 6), \"%\")"
   ]
  },
  {
   "cell_type": "markdown",
   "metadata": {},
   "source": [
    "# Binary Neural Network A\n",
    "### Create Neural Network"
   ]
  },
  {
   "cell_type": "code",
   "execution_count": 84,
   "metadata": {
    "scrolled": true
   },
   "outputs": [
    {
     "name": "stdout",
     "output_type": "stream",
     "text": [
      "Model: \"sequential_6\"\n",
      "_________________________________________________________________\n",
      "Layer (type)                 Output Shape              Param #   \n",
      "=================================================================\n",
      "conv2d_24 (Conv2D)           (None, 50, 50, 32)        320       \n",
      "_________________________________________________________________\n",
      "max_pooling2d_24 (MaxPooling (None, 25, 25, 32)        0         \n",
      "_________________________________________________________________\n",
      "conv2d_25 (Conv2D)           (None, 25, 25, 64)        18496     \n",
      "_________________________________________________________________\n",
      "max_pooling2d_25 (MaxPooling (None, 12, 12, 64)        0         \n",
      "_________________________________________________________________\n",
      "conv2d_26 (Conv2D)           (None, 12, 12, 128)       73856     \n",
      "_________________________________________________________________\n",
      "max_pooling2d_26 (MaxPooling (None, 6, 6, 128)         0         \n",
      "_________________________________________________________________\n",
      "conv2d_27 (Conv2D)           (None, 6, 6, 128)         147584    \n",
      "_________________________________________________________________\n",
      "max_pooling2d_27 (MaxPooling (None, 3, 3, 128)         0         \n",
      "_________________________________________________________________\n",
      "flatten_6 (Flatten)          (None, 1152)              0         \n",
      "_________________________________________________________________\n",
      "dense_12 (Dense)             (None, 512)               590336    \n",
      "_________________________________________________________________\n",
      "dense_13 (Dense)             (None, 1)                 513       \n",
      "=================================================================\n",
      "Total params: 831,105\n",
      "Trainable params: 831,105\n",
      "Non-trainable params: 0\n",
      "_________________________________________________________________\n"
     ]
    }
   ],
   "source": [
    "modelA = Sequential([\n",
    "    Conv2D(filters=32, kernel_size=(3,3), activation='relu', padding='same', input_shape=(50,50,1)),\n",
    "    MaxPool2D(pool_size=(2,2), strides=2),\n",
    "    Conv2D(filters=64, kernel_size=(3,3), activation='relu', padding='same', input_shape=(50,50,1)),\n",
    "    MaxPool2D(pool_size=(2,2), strides=2),\n",
    "    Conv2D(filters=128, kernel_size=(3,3), activation='relu', padding='same', input_shape=(50,50,1)),\n",
    "    MaxPool2D(pool_size=(2,2), strides=2),\n",
    "    Conv2D(filters=128, kernel_size=(3,3), activation='relu', padding='same', input_shape=(50,50,1)),\n",
    "    MaxPool2D(pool_size=(2,2), strides=2),\n",
    "    Flatten(),\n",
    "    Dense(units=512, activation='relu'),\n",
    "    Dense(units=1, activation='sigmoid')\n",
    "])\n",
    "modelA.summary()\n",
    "optimizer = RMSprop(learning_rate=0.0001)\n",
    "modelA.compile(optimizer=optimizer, loss='binary_crossentropy', metrics=['accuracy'])"
   ]
  },
  {
   "cell_type": "markdown",
   "metadata": {},
   "source": [
    "### Train Neural Network"
   ]
  },
  {
   "cell_type": "code",
   "execution_count": 85,
   "metadata": {
    "scrolled": true
   },
   "outputs": [
    {
     "name": "stdout",
     "output_type": "stream",
     "text": [
      "Epoch 1/30\n",
      "518/518 - 17s - loss: 0.6148 - accuracy: 0.6468 - val_loss: 0.5797 - val_accuracy: 0.6801\n",
      "Epoch 2/30\n",
      "518/518 - 17s - loss: 0.5196 - accuracy: 0.7421 - val_loss: 0.4673 - val_accuracy: 0.7898\n",
      "Epoch 3/30\n",
      "518/518 - 16s - loss: 0.4378 - accuracy: 0.8018 - val_loss: 0.4142 - val_accuracy: 0.8168\n",
      "Epoch 4/30\n",
      "518/518 - 16s - loss: 0.3870 - accuracy: 0.8267 - val_loss: 0.3698 - val_accuracy: 0.8331\n",
      "Epoch 5/30\n",
      "518/518 - 16s - loss: 0.3470 - accuracy: 0.8505 - val_loss: 0.3462 - val_accuracy: 0.8423\n",
      "Epoch 6/30\n",
      "518/518 - 16s - loss: 0.3112 - accuracy: 0.8626 - val_loss: 0.3417 - val_accuracy: 0.8524\n",
      "Epoch 7/30\n",
      "518/518 - 16s - loss: 0.2812 - accuracy: 0.8785 - val_loss: 0.3065 - val_accuracy: 0.8624\n",
      "Epoch 8/30\n",
      "518/518 - 16s - loss: 0.2559 - accuracy: 0.8953 - val_loss: 0.3278 - val_accuracy: 0.8563\n",
      "Epoch 9/30\n",
      "518/518 - 17s - loss: 0.2269 - accuracy: 0.9098 - val_loss: 0.2770 - val_accuracy: 0.8833\n",
      "Epoch 10/30\n",
      "518/518 - 17s - loss: 0.2038 - accuracy: 0.9198 - val_loss: 0.3231 - val_accuracy: 0.8709\n",
      "Epoch 11/30\n",
      "518/518 - 17s - loss: 0.1766 - accuracy: 0.9314 - val_loss: 0.2813 - val_accuracy: 0.8833\n",
      "Epoch 12/30\n",
      "518/518 - 16s - loss: 0.1600 - accuracy: 0.9415 - val_loss: 0.3198 - val_accuracy: 0.8717\n",
      "Epoch 13/30\n",
      "518/518 - 16s - loss: 0.1394 - accuracy: 0.9486 - val_loss: 0.2834 - val_accuracy: 0.8879\n",
      "Epoch 14/30\n",
      "518/518 - 16s - loss: 0.1192 - accuracy: 0.9563 - val_loss: 0.3815 - val_accuracy: 0.8640\n",
      "Epoch 15/30\n",
      "518/518 - 16s - loss: 0.1008 - accuracy: 0.9646 - val_loss: 0.3106 - val_accuracy: 0.8918\n",
      "Epoch 16/30\n",
      "518/518 - 16s - loss: 0.0868 - accuracy: 0.9706 - val_loss: 0.3305 - val_accuracy: 0.8895\n",
      "Epoch 17/30\n",
      "518/518 - 16s - loss: 0.0717 - accuracy: 0.9774 - val_loss: 0.3561 - val_accuracy: 0.8825\n",
      "Epoch 18/30\n",
      "518/518 - 17s - loss: 0.0597 - accuracy: 0.9809 - val_loss: 0.3926 - val_accuracy: 0.8825\n",
      "Epoch 19/30\n",
      "518/518 - 17s - loss: 0.0481 - accuracy: 0.9863 - val_loss: 0.3497 - val_accuracy: 0.8972\n",
      "Epoch 20/30\n",
      "518/518 - 17s - loss: 0.0408 - accuracy: 0.9880 - val_loss: 0.4289 - val_accuracy: 0.8802\n",
      "Epoch 21/30\n",
      "518/518 - 16s - loss: 0.0357 - accuracy: 0.9886 - val_loss: 0.3970 - val_accuracy: 0.8941\n",
      "Epoch 22/30\n",
      "518/518 - 16s - loss: 0.0285 - accuracy: 0.9915 - val_loss: 0.4107 - val_accuracy: 0.8941\n",
      "Epoch 23/30\n",
      "518/518 - 16s - loss: 0.0242 - accuracy: 0.9929 - val_loss: 0.4850 - val_accuracy: 0.8988\n",
      "Epoch 24/30\n",
      "518/518 - 16s - loss: 0.0223 - accuracy: 0.9940 - val_loss: 0.4871 - val_accuracy: 0.8988\n",
      "Epoch 25/30\n",
      "518/518 - 17s - loss: 0.0236 - accuracy: 0.9946 - val_loss: 0.4744 - val_accuracy: 0.9011\n",
      "Epoch 26/30\n",
      "518/518 - 16s - loss: 0.0199 - accuracy: 0.9961 - val_loss: 0.5356 - val_accuracy: 0.8934\n",
      "Epoch 27/30\n",
      "518/518 - 16s - loss: 0.0207 - accuracy: 0.9957 - val_loss: 0.5381 - val_accuracy: 0.8964\n",
      "Epoch 28/30\n",
      "518/518 - 17s - loss: 0.0220 - accuracy: 0.9957 - val_loss: 0.5562 - val_accuracy: 0.8926\n",
      "Epoch 29/30\n",
      "518/518 - 17s - loss: 0.0179 - accuracy: 0.9969 - val_loss: 0.6006 - val_accuracy: 0.8818\n",
      "Epoch 30/30\n",
      "518/518 - 16s - loss: 0.0173 - accuracy: 0.9967 - val_loss: 0.6541 - val_accuracy: 0.8964\n"
     ]
    }
   ],
   "source": [
    "historyA = modelA.fit(x=X, y=Y, validation_split = 0.2, batch_size=10, epochs=30, shuffle=True, verbose=2)"
   ]
  },
  {
   "cell_type": "markdown",
   "metadata": {},
   "source": [
    "# Binary Neural Network B\n",
    "### Create Neural Network - with Dropout feature"
   ]
  },
  {
   "cell_type": "code",
   "execution_count": 88,
   "metadata": {
    "scrolled": true
   },
   "outputs": [
    {
     "name": "stdout",
     "output_type": "stream",
     "text": [
      "Model: \"sequential_7\"\n",
      "_________________________________________________________________\n",
      "Layer (type)                 Output Shape              Param #   \n",
      "=================================================================\n",
      "conv2d_28 (Conv2D)           (None, 50, 50, 32)        320       \n",
      "_________________________________________________________________\n",
      "max_pooling2d_28 (MaxPooling (None, 25, 25, 32)        0         \n",
      "_________________________________________________________________\n",
      "conv2d_29 (Conv2D)           (None, 25, 25, 64)        18496     \n",
      "_________________________________________________________________\n",
      "max_pooling2d_29 (MaxPooling (None, 12, 12, 64)        0         \n",
      "_________________________________________________________________\n",
      "conv2d_30 (Conv2D)           (None, 12, 12, 128)       73856     \n",
      "_________________________________________________________________\n",
      "max_pooling2d_30 (MaxPooling (None, 6, 6, 128)         0         \n",
      "_________________________________________________________________\n",
      "conv2d_31 (Conv2D)           (None, 6, 6, 128)         147584    \n",
      "_________________________________________________________________\n",
      "max_pooling2d_31 (MaxPooling (None, 3, 3, 128)         0         \n",
      "_________________________________________________________________\n",
      "dropout_6 (Dropout)          (None, 3, 3, 128)         0         \n",
      "_________________________________________________________________\n",
      "flatten_7 (Flatten)          (None, 1152)              0         \n",
      "_________________________________________________________________\n",
      "dense_14 (Dense)             (None, 512)               590336    \n",
      "_________________________________________________________________\n",
      "dense_15 (Dense)             (None, 1)                 513       \n",
      "=================================================================\n",
      "Total params: 831,105\n",
      "Trainable params: 831,105\n",
      "Non-trainable params: 0\n",
      "_________________________________________________________________\n"
     ]
    }
   ],
   "source": [
    "modelB = Sequential([\n",
    "    Conv2D(filters=32, kernel_size=(3,3), activation='relu', padding='same', input_shape=(50,50,1)),\n",
    "    MaxPool2D(pool_size=(2,2), strides=2),\n",
    "    Conv2D(filters=64, kernel_size=(3,3), activation='relu', padding='same', input_shape=(50,50,1)),\n",
    "    MaxPool2D(pool_size=(2,2), strides=2),\n",
    "    Conv2D(filters=128, kernel_size=(3,3), activation='relu', padding='same', input_shape=(50,50,1)),\n",
    "    MaxPool2D(pool_size=(2,2), strides=2),\n",
    "    Conv2D(filters=128, kernel_size=(3,3), activation='relu', padding='same', input_shape=(50,50,1)),\n",
    "    MaxPool2D(pool_size=(2,2), strides=2),\n",
    "    Dropout(0.5),\n",
    "    Flatten(),\n",
    "    Dense(units=512, activation='relu'),\n",
    "    Dense(units=1, activation='sigmoid')\n",
    "])\n",
    "modelB.summary()\n",
    "optimizer = RMSprop(learning_rate=0.0001)\n",
    "modelB.compile(optimizer=optimizer, loss='binary_crossentropy', metrics=['accuracy'])"
   ]
  },
  {
   "cell_type": "markdown",
   "metadata": {},
   "source": [
    "### Train Neural Network"
   ]
  },
  {
   "cell_type": "code",
   "execution_count": 89,
   "metadata": {
    "scrolled": true
   },
   "outputs": [
    {
     "name": "stdout",
     "output_type": "stream",
     "text": [
      "Epoch 1/30\n",
      "518/518 - 18s - loss: 0.6308 - accuracy: 0.6258 - val_loss: 0.5899 - val_accuracy: 0.6793\n",
      "Epoch 2/30\n",
      "518/518 - 18s - loss: 0.5689 - accuracy: 0.6973 - val_loss: 0.5334 - val_accuracy: 0.7349\n",
      "Epoch 3/30\n",
      "518/518 - 17s - loss: 0.5010 - accuracy: 0.7560 - val_loss: 0.4563 - val_accuracy: 0.7929\n",
      "Epoch 4/30\n",
      "518/518 - 17s - loss: 0.4440 - accuracy: 0.7964 - val_loss: 0.4233 - val_accuracy: 0.8153\n",
      "Epoch 5/30\n",
      "518/518 - 17s - loss: 0.4042 - accuracy: 0.8205 - val_loss: 0.4027 - val_accuracy: 0.8138\n",
      "Epoch 6/30\n",
      "518/518 - 17s - loss: 0.3835 - accuracy: 0.8306 - val_loss: 0.3646 - val_accuracy: 0.8400\n",
      "Epoch 7/30\n",
      "518/518 - 17s - loss: 0.3502 - accuracy: 0.8478 - val_loss: 0.3396 - val_accuracy: 0.8509\n",
      "Epoch 8/30\n",
      "518/518 - 17s - loss: 0.3253 - accuracy: 0.8578 - val_loss: 0.3521 - val_accuracy: 0.8439\n",
      "Epoch 9/30\n",
      "518/518 - 18s - loss: 0.3061 - accuracy: 0.8669 - val_loss: 0.3134 - val_accuracy: 0.8671\n",
      "Epoch 10/30\n",
      "518/518 - 17s - loss: 0.2906 - accuracy: 0.8748 - val_loss: 0.2970 - val_accuracy: 0.8733\n",
      "Epoch 11/30\n",
      "518/518 - 16s - loss: 0.2663 - accuracy: 0.8901 - val_loss: 0.2868 - val_accuracy: 0.8787\n",
      "Epoch 12/30\n",
      "518/518 - 17s - loss: 0.2505 - accuracy: 0.8963 - val_loss: 0.2879 - val_accuracy: 0.8818\n",
      "Epoch 13/30\n",
      "518/518 - 18s - loss: 0.2372 - accuracy: 0.9019 - val_loss: 0.3386 - val_accuracy: 0.8570\n",
      "Epoch 14/30\n",
      "518/518 - 16s - loss: 0.2205 - accuracy: 0.9090 - val_loss: 0.2683 - val_accuracy: 0.8903\n",
      "Epoch 15/30\n",
      "518/518 - 16s - loss: 0.2052 - accuracy: 0.9158 - val_loss: 0.2713 - val_accuracy: 0.8910\n",
      "Epoch 16/30\n",
      "518/518 - 16s - loss: 0.1963 - accuracy: 0.9196 - val_loss: 0.2851 - val_accuracy: 0.8887\n",
      "Epoch 17/30\n",
      "518/518 - 16s - loss: 0.1769 - accuracy: 0.9297 - val_loss: 0.2770 - val_accuracy: 0.8895\n",
      "Epoch 18/30\n",
      "518/518 - 17s - loss: 0.1679 - accuracy: 0.9378 - val_loss: 0.2678 - val_accuracy: 0.9003\n",
      "Epoch 19/30\n",
      "518/518 - 16s - loss: 0.1534 - accuracy: 0.9444 - val_loss: 0.2726 - val_accuracy: 0.8957\n",
      "Epoch 20/30\n",
      "518/518 - 16s - loss: 0.1401 - accuracy: 0.9447 - val_loss: 0.2835 - val_accuracy: 0.8995\n",
      "Epoch 21/30\n",
      "518/518 - 16s - loss: 0.1336 - accuracy: 0.9509 - val_loss: 0.2674 - val_accuracy: 0.9042\n",
      "Epoch 22/30\n",
      "518/518 - 18s - loss: 0.1195 - accuracy: 0.9575 - val_loss: 0.2804 - val_accuracy: 0.9034\n",
      "Epoch 23/30\n",
      "518/518 - 18s - loss: 0.1166 - accuracy: 0.9587 - val_loss: 0.3073 - val_accuracy: 0.9003\n",
      "Epoch 24/30\n",
      "518/518 - 16s - loss: 0.1051 - accuracy: 0.9594 - val_loss: 0.3035 - val_accuracy: 0.8879\n",
      "Epoch 25/30\n",
      "518/518 - 17s - loss: 0.1015 - accuracy: 0.9654 - val_loss: 0.2816 - val_accuracy: 0.9104\n",
      "Epoch 26/30\n",
      "518/518 - 17s - loss: 0.0837 - accuracy: 0.9695 - val_loss: 0.3230 - val_accuracy: 0.9034\n",
      "Epoch 27/30\n",
      "518/518 - 16s - loss: 0.0827 - accuracy: 0.9718 - val_loss: 0.3633 - val_accuracy: 0.8972\n",
      "Epoch 28/30\n",
      "518/518 - 16s - loss: 0.0803 - accuracy: 0.9739 - val_loss: 0.3142 - val_accuracy: 0.9042\n",
      "Epoch 29/30\n",
      "518/518 - 16s - loss: 0.0683 - accuracy: 0.9741 - val_loss: 0.3482 - val_accuracy: 0.9011\n",
      "Epoch 30/30\n",
      "518/518 - 17s - loss: 0.0693 - accuracy: 0.9747 - val_loss: 0.3404 - val_accuracy: 0.9134\n"
     ]
    }
   ],
   "source": [
    "historyB = modelB.fit(x=X, y=Y, validation_split = 0.2, batch_size=10, epochs=30, shuffle=True, verbose=2)"
   ]
  },
  {
   "cell_type": "markdown",
   "metadata": {},
   "source": [
    "# Binary Neural Network C\n",
    "### Create Neural Network"
   ]
  },
  {
   "cell_type": "code",
   "execution_count": 98,
   "metadata": {
    "scrolled": true
   },
   "outputs": [
    {
     "name": "stdout",
     "output_type": "stream",
     "text": [
      "Model: \"sequential_11\"\n",
      "_________________________________________________________________\n",
      "Layer (type)                 Output Shape              Param #   \n",
      "=================================================================\n",
      "conv2d_44 (Conv2D)           (None, 50, 50, 32)        320       \n",
      "_________________________________________________________________\n",
      "max_pooling2d_44 (MaxPooling (None, 25, 25, 32)        0         \n",
      "_________________________________________________________________\n",
      "conv2d_45 (Conv2D)           (None, 25, 25, 64)        18496     \n",
      "_________________________________________________________________\n",
      "max_pooling2d_45 (MaxPooling (None, 12, 12, 64)        0         \n",
      "_________________________________________________________________\n",
      "conv2d_46 (Conv2D)           (None, 12, 12, 128)       73856     \n",
      "_________________________________________________________________\n",
      "max_pooling2d_46 (MaxPooling (None, 6, 6, 128)         0         \n",
      "_________________________________________________________________\n",
      "conv2d_47 (Conv2D)           (None, 6, 6, 128)         147584    \n",
      "_________________________________________________________________\n",
      "max_pooling2d_47 (MaxPooling (None, 3, 3, 128)         0         \n",
      "_________________________________________________________________\n",
      "dropout_10 (Dropout)         (None, 3, 3, 128)         0         \n",
      "_________________________________________________________________\n",
      "flatten_11 (Flatten)         (None, 1152)              0         \n",
      "_________________________________________________________________\n",
      "dense_22 (Dense)             (None, 512)               590336    \n",
      "_________________________________________________________________\n",
      "dense_23 (Dense)             (None, 1)                 513       \n",
      "=================================================================\n",
      "Total params: 831,105\n",
      "Trainable params: 831,105\n",
      "Non-trainable params: 0\n",
      "_________________________________________________________________\n"
     ]
    }
   ],
   "source": [
    "modelC = Sequential([\n",
    "    Conv2D(filters=32, kernel_size=(3,3), activation='relu', padding='same', input_shape=(50,50,1)),\n",
    "    MaxPool2D(pool_size=(2,2), strides=2),\n",
    "    Conv2D(filters=64, kernel_size=(3,3), activation='relu', padding='same', input_shape=(50,50,1)),\n",
    "    MaxPool2D(pool_size=(2,2), strides=2),\n",
    "    Conv2D(filters=128, kernel_size=(3,3), activation='relu', padding='same', input_shape=(50,50,1)),\n",
    "    MaxPool2D(pool_size=(2,2), strides=2),\n",
    "    Conv2D(filters=128, kernel_size=(3,3), activation='relu', padding='same', input_shape=(50,50,1)),\n",
    "    MaxPool2D(pool_size=(2,2), strides=2),\n",
    "    Dropout(0.5),\n",
    "    Flatten(),\n",
    "    Dense(units=512, activation='relu'),\n",
    "    Dense(units=1, activation='sigmoid')\n",
    "])\n",
    "\n",
    "modelC.summary()\n",
    "learning_rate_decay = ExponentialDecay(0.0001, decay_steps=100000, decay_rate=0.96, staircase=True)\n",
    "optimizer = RMSprop(learning_rate_decay)\n",
    "modelC.compile(optimizer=optimizer, loss='binary_crossentropy', metrics=['accuracy'])"
   ]
  },
  {
   "cell_type": "markdown",
   "metadata": {},
   "source": [
    "### Train Neural Network"
   ]
  },
  {
   "cell_type": "code",
   "execution_count": 100,
   "metadata": {
    "scrolled": true
   },
   "outputs": [
    {
     "name": "stdout",
     "output_type": "stream",
     "text": [
      "Epoch 1/30\n",
      "518/518 - 17s - loss: 0.6103 - accuracy: 0.6542 - val_loss: 0.5794 - val_accuracy: 0.6855\n",
      "Epoch 2/30\n",
      "518/518 - 17s - loss: 0.5478 - accuracy: 0.7160 - val_loss: 0.5082 - val_accuracy: 0.7504\n",
      "Epoch 3/30\n",
      "518/518 - 16s - loss: 0.4806 - accuracy: 0.7716 - val_loss: 0.4414 - val_accuracy: 0.7998\n",
      "Epoch 4/30\n",
      "518/518 - 17s - loss: 0.4356 - accuracy: 0.8002 - val_loss: 0.4080 - val_accuracy: 0.8277\n",
      "Epoch 5/30\n",
      "518/518 - 16s - loss: 0.4021 - accuracy: 0.8234 - val_loss: 0.3955 - val_accuracy: 0.8338\n",
      "Epoch 6/30\n",
      "518/518 - 17s - loss: 0.3736 - accuracy: 0.8308 - val_loss: 0.3532 - val_accuracy: 0.8400\n",
      "Epoch 7/30\n",
      "518/518 - 17s - loss: 0.3460 - accuracy: 0.8520 - val_loss: 0.3450 - val_accuracy: 0.8408\n",
      "Epoch 8/30\n",
      "518/518 - 16s - loss: 0.3246 - accuracy: 0.8561 - val_loss: 0.3234 - val_accuracy: 0.8640\n",
      "Epoch 9/30\n",
      "518/518 - 17s - loss: 0.3039 - accuracy: 0.8684 - val_loss: 0.2942 - val_accuracy: 0.8779\n",
      "Epoch 10/30\n",
      "518/518 - 17s - loss: 0.2869 - accuracy: 0.8754 - val_loss: 0.2918 - val_accuracy: 0.8709\n",
      "Epoch 11/30\n",
      "518/518 - 17s - loss: 0.2672 - accuracy: 0.8889 - val_loss: 0.2861 - val_accuracy: 0.8810\n",
      "Epoch 12/30\n",
      "518/518 - 17s - loss: 0.2520 - accuracy: 0.8964 - val_loss: 0.2688 - val_accuracy: 0.8887\n",
      "Epoch 13/30\n",
      "518/518 - 16s - loss: 0.2360 - accuracy: 0.9030 - val_loss: 0.2626 - val_accuracy: 0.8872\n",
      "Epoch 14/30\n",
      "518/518 - 17s - loss: 0.2214 - accuracy: 0.9082 - val_loss: 0.2944 - val_accuracy: 0.8849\n",
      "Epoch 15/30\n",
      "518/518 - 17s - loss: 0.2125 - accuracy: 0.9138 - val_loss: 0.2593 - val_accuracy: 0.8918\n",
      "Epoch 16/30\n",
      "518/518 - 17s - loss: 0.2002 - accuracy: 0.9210 - val_loss: 0.2545 - val_accuracy: 0.8972\n",
      "Epoch 17/30\n",
      "518/518 - 16s - loss: 0.1837 - accuracy: 0.9277 - val_loss: 0.2941 - val_accuracy: 0.8879\n",
      "Epoch 18/30\n",
      "518/518 - 17s - loss: 0.1734 - accuracy: 0.9322 - val_loss: 0.2541 - val_accuracy: 0.8941\n",
      "Epoch 19/30\n",
      "518/518 - 17s - loss: 0.1599 - accuracy: 0.9389 - val_loss: 0.2731 - val_accuracy: 0.8872\n",
      "Epoch 20/30\n",
      "518/518 - 17s - loss: 0.1546 - accuracy: 0.9374 - val_loss: 0.2660 - val_accuracy: 0.9026\n",
      "Epoch 21/30\n",
      "518/518 - 17s - loss: 0.1414 - accuracy: 0.9488 - val_loss: 0.2755 - val_accuracy: 0.9003\n",
      "Epoch 22/30\n",
      "518/518 - 17s - loss: 0.1284 - accuracy: 0.9531 - val_loss: 0.2626 - val_accuracy: 0.9003\n",
      "Epoch 23/30\n",
      "518/518 - 17s - loss: 0.1213 - accuracy: 0.9536 - val_loss: 0.2838 - val_accuracy: 0.9019\n",
      "Epoch 24/30\n",
      "518/518 - 17s - loss: 0.1120 - accuracy: 0.9594 - val_loss: 0.3072 - val_accuracy: 0.8903\n",
      "Epoch 25/30\n",
      "518/518 - 17s - loss: 0.1030 - accuracy: 0.9639 - val_loss: 0.2832 - val_accuracy: 0.9065\n",
      "Epoch 26/30\n",
      "518/518 - 16s - loss: 0.0992 - accuracy: 0.9619 - val_loss: 0.2846 - val_accuracy: 0.9065\n",
      "Epoch 27/30\n",
      "518/518 - 17s - loss: 0.0884 - accuracy: 0.9662 - val_loss: 0.3155 - val_accuracy: 0.9096\n",
      "Epoch 28/30\n",
      "518/518 - 17s - loss: 0.0858 - accuracy: 0.9695 - val_loss: 0.2872 - val_accuracy: 0.9065\n",
      "Epoch 29/30\n",
      "518/518 - 17s - loss: 0.0763 - accuracy: 0.9745 - val_loss: 0.3509 - val_accuracy: 0.8864\n",
      "Epoch 30/30\n",
      "518/518 - 18s - loss: 0.0763 - accuracy: 0.9724 - val_loss: 0.3185 - val_accuracy: 0.8972\n"
     ]
    }
   ],
   "source": [
    "historyC = modelC.fit(x=X, y=Y, validation_split = 0.2, batch_size=10, epochs=30, shuffle=True, verbose=2)"
   ]
  },
  {
   "cell_type": "markdown",
   "metadata": {},
   "source": [
    "# Save Model"
   ]
  },
  {
   "cell_type": "code",
   "execution_count": 102,
   "metadata": {},
   "outputs": [],
   "source": [
    "modelA.save('modelos/modeloA.h5')\n",
    "modelB.save('modelos/modeloB.h5')\n",
    "modelC.save('modelos/modeloC.h5')"
   ]
  },
  {
   "cell_type": "markdown",
   "metadata": {},
   "source": [
    "# Compare Models"
   ]
  },
  {
   "cell_type": "code",
   "execution_count": 6,
   "metadata": {
    "scrolled": true
   },
   "outputs": [
    {
     "name": "stdout",
     "output_type": "stream",
     "text": [
      "                      A          B          C\n",
      "         Accuracy ->  0.89645 % 0.91345 % 0.89722 %\n",
      "Balanced Accuracy ->  0.89378 % 0.91217 % 0.89769 %\n"
     ]
    },
    {
     "data": {
      "image/png": "[encoded data removed]",
      "text/plain": [
       "<Figure size 1440x360 with 3 Axes>"
      ]
     },
     "metadata": {
      "needs_background": "light"
     },
     "output_type": "display_data"
    }
   ],
   "source": [
    "# Load Models\n",
    "modelA = load_model('modelos/modeloA.h5')\n",
    "modelB = load_model('modelos/modeloB.h5')\n",
    "modelC = load_model('modelos/modeloC.h5')\n",
    "\n",
    "# Predictions\n",
    "predictionsA = modelA.predict(x=Xtest, batch_size=10, verbose=0)\n",
    "predictionsB = modelB.predict(x=Xtest, batch_size=10, verbose=0)\n",
    "predictionsC = modelC.predict(x=Xtest, batch_size=10, verbose=0)\n",
    "\n",
    "# Rounded Predictions\n",
    "rounded_predictionsA = np.round(predictionsA)\n",
    "rounded_predictionsB = np.round(predictionsB)\n",
    "rounded_predictionsC = np.round(predictionsC)\n",
    "\n",
    "# Confusion Matrix\n",
    "cmA = pd.DataFrame(confusion_matrix(y_true = Ytest, y_pred = rounded_predictionsA))\n",
    "cmB = pd.DataFrame(confusion_matrix(y_true = Ytest, y_pred = rounded_predictionsB))\n",
    "cmC = pd.DataFrame(confusion_matrix(y_true = Ytest, y_pred = rounded_predictionsC))\n",
    "\n",
    "fig, axs = plt.subplots(1,3, figsize=(20,5))\n",
    "sn.heatmap(cmA, annot = True, fmt=\"d\", ax=axs[0], cbar=False)\n",
    "sn.heatmap(cmB, annot = True, fmt=\"d\", ax=axs[1], cbar=False)\n",
    "sn.heatmap(cmC, annot = True, fmt=\"d\", ax=axs[2], cbar=False)\n",
    "\n",
    "# Accuracy Scores\n",
    "AccA = accuracy_score(y_true = Ytest, y_pred = rounded_predictionsA)\n",
    "AccB = accuracy_score(y_true = Ytest, y_pred = rounded_predictionsB)\n",
    "AccC = accuracy_score(y_true = Ytest, y_pred = rounded_predictionsC)\n",
    "BAccA = balanced_accuracy_score(y_true = Ytest, y_pred = rounded_predictionsA)\n",
    "BAccB = balanced_accuracy_score(y_true = Ytest, y_pred = rounded_predictionsB)\n",
    "BAccC = balanced_accuracy_score(y_true = Ytest, y_pred = rounded_predictionsC)\n",
    "\n",
    "print(\"                      A          B          C\")\n",
    "print(\"         Accuracy -> \", np.round(AccA, 5), \"%\", np.round(AccB, 5), \"%\", np.round(AccC, 5), \"%\")\n",
    "print(\"Balanced Accuracy -> \", np.round(BAccA, 5), \"%\", np.round(BAccB, 5), \"%\", np.round(BAccC, 5), \"%\")"
   ]
  },
  {
   "cell_type": "markdown",
   "metadata": {},
   "source": [
    "### Training vs Validation Accuracy"
   ]
  },
  {
   "cell_type": "code",
   "execution_count": 4,
   "metadata": {
    "scrolled": false
   },
   "outputs": [
    {
     "ename": "NameError",
     "evalue": "name 'historyA' is not defined",
     "output_type": "error",
     "traceback": [
      "\u001b[1;31m---------------------------------------------------------------------------\u001b[0m",
      "\u001b[1;31mNameError\u001b[0m                                 Traceback (most recent call last)",
      "\u001b[1;32m<ipython-input-4-2c05de958e2c>\u001b[0m in \u001b[0;36m<module>\u001b[1;34m\u001b[0m\n\u001b[0;32m      1\u001b[0m \u001b[0mfig\u001b[0m\u001b[1;33m,\u001b[0m \u001b[0max\u001b[0m \u001b[1;33m=\u001b[0m \u001b[0mplt\u001b[0m\u001b[1;33m.\u001b[0m\u001b[0msubplots\u001b[0m\u001b[1;33m(\u001b[0m\u001b[1;36m1\u001b[0m\u001b[1;33m,\u001b[0m \u001b[1;36m3\u001b[0m\u001b[1;33m,\u001b[0m \u001b[0mfigsize\u001b[0m\u001b[1;33m=\u001b[0m\u001b[1;33m(\u001b[0m\u001b[1;36m20\u001b[0m\u001b[1;33m,\u001b[0m\u001b[1;36m5\u001b[0m\u001b[1;33m)\u001b[0m\u001b[1;33m)\u001b[0m\u001b[1;33m\u001b[0m\u001b[1;33m\u001b[0m\u001b[0m\n\u001b[1;32m----> 2\u001b[1;33m \u001b[0max\u001b[0m\u001b[1;33m[\u001b[0m\u001b[1;36m0\u001b[0m\u001b[1;33m]\u001b[0m\u001b[1;33m.\u001b[0m\u001b[0mplot\u001b[0m\u001b[1;33m(\u001b[0m\u001b[0mhistoryA\u001b[0m\u001b[1;33m.\u001b[0m\u001b[0mhistory\u001b[0m\u001b[1;33m[\u001b[0m\u001b[1;34m'accuracy'\u001b[0m\u001b[1;33m]\u001b[0m\u001b[1;33m)\u001b[0m\u001b[1;33m\u001b[0m\u001b[1;33m\u001b[0m\u001b[0m\n\u001b[0m\u001b[0;32m      3\u001b[0m \u001b[0max\u001b[0m\u001b[1;33m[\u001b[0m\u001b[1;36m0\u001b[0m\u001b[1;33m]\u001b[0m\u001b[1;33m.\u001b[0m\u001b[0mplot\u001b[0m\u001b[1;33m(\u001b[0m\u001b[0mhistoryA\u001b[0m\u001b[1;33m.\u001b[0m\u001b[0mhistory\u001b[0m\u001b[1;33m[\u001b[0m\u001b[1;34m'val_accuracy'\u001b[0m\u001b[1;33m]\u001b[0m\u001b[1;33m)\u001b[0m\u001b[1;33m\u001b[0m\u001b[1;33m\u001b[0m\u001b[0m\n\u001b[0;32m      4\u001b[0m \u001b[0max\u001b[0m\u001b[1;33m[\u001b[0m\u001b[1;36m1\u001b[0m\u001b[1;33m]\u001b[0m\u001b[1;33m.\u001b[0m\u001b[0mplot\u001b[0m\u001b[1;33m(\u001b[0m\u001b[0mhistoryB\u001b[0m\u001b[1;33m.\u001b[0m\u001b[0mhistory\u001b[0m\u001b[1;33m[\u001b[0m\u001b[1;34m'accuracy'\u001b[0m\u001b[1;33m]\u001b[0m\u001b[1;33m)\u001b[0m\u001b[1;33m\u001b[0m\u001b[1;33m\u001b[0m\u001b[0m\n\u001b[0;32m      5\u001b[0m \u001b[0max\u001b[0m\u001b[1;33m[\u001b[0m\u001b[1;36m1\u001b[0m\u001b[1;33m]\u001b[0m\u001b[1;33m.\u001b[0m\u001b[0mplot\u001b[0m\u001b[1;33m(\u001b[0m\u001b[0mhistoryB\u001b[0m\u001b[1;33m.\u001b[0m\u001b[0mhistory\u001b[0m\u001b[1;33m[\u001b[0m\u001b[1;34m'val_accuracy'\u001b[0m\u001b[1;33m]\u001b[0m\u001b[1;33m)\u001b[0m\u001b[1;33m\u001b[0m\u001b[1;33m\u001b[0m\u001b[0m\n",
      "\u001b[1;31mNameError\u001b[0m: name 'historyA' is not defined"
     ]
    },
    {
     "data": {
      "image/png": "[encoded data removed]",
      "text/plain": [
       "<Figure size 1440x360 with 3 Axes>"
      ]
     },
     "metadata": {
      "needs_background": "light"
     },
     "output_type": "display_data"
    }
   ],
   "source": [
    "fig, ax = plt.subplots(1, 3, figsize=(20,5))\n",
    "ax[0].plot(historyA.history['accuracy'])\n",
    "ax[0].plot(historyA.history['val_accuracy'])\n",
    "ax[1].plot(historyB.history['accuracy'])\n",
    "ax[1].plot(historyB.history['val_accuracy'])\n",
    "ax[2].plot(historyC.history['accuracy'])\n",
    "ax[2].plot(historyC.history['val_accuracy'])"
   ]
  },
  {
   "cell_type": "markdown",
   "metadata": {},
   "source": [
    "### Training vs Validation Loss"
   ]
  },
  {
   "cell_type": "code",
   "execution_count": 138,
   "metadata": {
    "scrolled": true
   },
   "outputs": [
    {
     "data": {
      "text/plain": [
       "[<matplotlib.lines.Line2D at 0x2469d2080a0>]"
      ]
     },
     "execution_count": 138,
     "metadata": {},
     "output_type": "execute_result"
    },
    {
     "data": {
      "image/png": "[encoded data removed]",
      "text/plain": [
       "<Figure size 1440x360 with 3 Axes>"
      ]
     },
     "metadata": {
      "needs_background": "light"
     },
     "output_type": "display_data"
    }
   ],
   "source": [
    "fig, ax = plt.subplots(1, 3, figsize=(20,5))\n",
    "ax[0].plot(historyA.history['loss'])\n",
    "ax[0].plot(historyA.history['val_loss'])\n",
    "ax[1].plot(historyB.history['loss'])\n",
    "ax[1].plot(historyB.history['val_loss'])\n",
    "ax[2].plot(historyC.history['loss'])\n",
    "ax[2].plot(historyC.history['val_loss'])"
   ]
  },
  {
   "cell_type": "markdown",
   "metadata": {},
   "source": [
    "### Roc Curve"
   ]
  },
  {
   "cell_type": "code",
   "execution_count": 140,
   "metadata": {
    "scrolled": true
   },
   "outputs": [
    {
     "name": "stdout",
     "output_type": "stream",
     "text": [
      "A area -> 0.8937834070662384\n",
      "B area -> 0.9121701715047573\n",
      "C area -> 0.8976874128840677\n"
     ]
    },
    {
     "data": {
      "image/png": "[encoded data removed]",
      "text/plain": [
       "<Figure size 432x288 with 1 Axes>"
      ]
     },
     "metadata": {
      "needs_background": "light"
     },
     "output_type": "display_data"
    }
   ],
   "source": [
    "false_positive_rateA, true_positive_rateA, thresholdA = roc_curve(Ytest, rounded_predictionsA)\n",
    "false_positive_rateB, true_positive_rateB, thresholdB = roc_curve(Ytest, rounded_predictionsB)\n",
    "false_positive_rateC, true_positive_rateC, thresholdC = roc_curve(Ytest, rounded_predictionsC)\n",
    "plt.plot(false_positive_rateA, true_positive_rateA)\n",
    "plt.plot(false_positive_rateB, true_positive_rateB)\n",
    "plt.plot(false_positive_rateC, true_positive_rateC)\n",
    "print(\"A area ->\", np.round(auc(false_positive_rateA, true_positive_rateA)))\n",
    "print(\"B area ->\", np.round(auc(false_positive_rateB, true_positive_rateB)))\n",
    "print(\"C area ->\", np.round(auc(false_positive_rateC, true_positive_rateC)))"
   ]
  },
  {
   "cell_type": "markdown",
   "metadata": {},
   "source": [
    "# Binary Neural Network D - EarlyStopped Model B\n",
    "### Create Neural Network"
   ]
  },
  {
   "cell_type": "code",
   "execution_count": 9,
   "metadata": {
    "scrolled": true
   },
   "outputs": [
    {
     "name": "stdout",
     "output_type": "stream",
     "text": [
      "Model: \"sequential_1\"\n",
      "_________________________________________________________________\n",
      "Layer (type)                 Output Shape              Param #   \n",
      "=================================================================\n",
      "conv2d_4 (Conv2D)            (None, 50, 50, 32)        320       \n",
      "_________________________________________________________________\n",
      "max_pooling2d_4 (MaxPooling2 (None, 25, 25, 32)        0         \n",
      "_________________________________________________________________\n",
      "conv2d_5 (Conv2D)            (None, 25, 25, 64)        18496     \n",
      "_________________________________________________________________\n",
      "max_pooling2d_5 (MaxPooling2 (None, 12, 12, 64)        0         \n",
      "_________________________________________________________________\n",
      "conv2d_6 (Conv2D)            (None, 12, 12, 128)       73856     \n",
      "_________________________________________________________________\n",
      "max_pooling2d_6 (MaxPooling2 (None, 6, 6, 128)         0         \n",
      "_________________________________________________________________\n",
      "conv2d_7 (Conv2D)            (None, 6, 6, 128)         147584    \n",
      "_________________________________________________________________\n",
      "max_pooling2d_7 (MaxPooling2 (None, 3, 3, 128)         0         \n",
      "_________________________________________________________________\n",
      "dropout_1 (Dropout)          (None, 3, 3, 128)         0         \n",
      "_________________________________________________________________\n",
      "flatten_1 (Flatten)          (None, 1152)              0         \n",
      "_________________________________________________________________\n",
      "dense_2 (Dense)              (None, 512)               590336    \n",
      "_________________________________________________________________\n",
      "dense_3 (Dense)              (None, 1)                 513       \n",
      "=================================================================\n",
      "Total params: 831,105\n",
      "Trainable params: 831,105\n",
      "Non-trainable params: 0\n",
      "_________________________________________________________________\n"
     ]
    }
   ],
   "source": [
    "callback = EarlyStopping(monitor=\"val_loss\", mode=\"auto\", min_delta=1e-3, patience=5, restore_best_weights=True)\n",
    "modelD = Sequential([\n",
    "    Conv2D(filters=32, kernel_size=(3,3), activation='relu', padding='same', input_shape=(50,50,1)),\n",
    "    MaxPool2D(pool_size=(2,2), strides=2),\n",
    "    Conv2D(filters=64, kernel_size=(3,3), activation='relu', padding='same', input_shape=(50,50,1)),\n",
    "    MaxPool2D(pool_size=(2,2), strides=2),\n",
    "    Conv2D(filters=128, kernel_size=(3,3), activation='relu', padding='same', input_shape=(50,50,1)),\n",
    "    MaxPool2D(pool_size=(2,2), strides=2),\n",
    "    Conv2D(filters=128, kernel_size=(3,3), activation='relu', padding='same', input_shape=(50,50,1)),\n",
    "    MaxPool2D(pool_size=(2,2), strides=2),\n",
    "    Dropout(0.5),\n",
    "    Flatten(),\n",
    "    Dense(units=512, activation='relu'),\n",
    "    Dense(units=1, activation='sigmoid')\n",
    "])\n",
    "modelD.summary()\n",
    "optimizer = RMSprop(learning_rate=0.0001)\n",
    "modelD.compile(optimizer=optimizer, loss='binary_crossentropy', metrics=['accuracy'])"
   ]
  },
  {
   "cell_type": "markdown",
   "metadata": {},
   "source": [
    "### Network Train"
   ]
  },
  {
   "cell_type": "code",
   "execution_count": 10,
   "metadata": {
    "scrolled": true
   },
   "outputs": [
    {
     "name": "stdout",
     "output_type": "stream",
     "text": [
      "Epoch 1/30\n",
      "518/518 - 23s - loss: 0.6349 - accuracy: 0.6327 - val_loss: 0.5971 - val_accuracy: 0.6731\n",
      "Epoch 2/30\n",
      "518/518 - 19s - loss: 0.5761 - accuracy: 0.6886 - val_loss: 0.5529 - val_accuracy: 0.7148\n",
      "Epoch 3/30\n",
      "518/518 - 21s - loss: 0.5183 - accuracy: 0.7432 - val_loss: 0.4796 - val_accuracy: 0.7689\n",
      "Epoch 4/30\n",
      "518/518 - 26s - loss: 0.4558 - accuracy: 0.7844 - val_loss: 0.4111 - val_accuracy: 0.8176\n",
      "Epoch 5/30\n",
      "518/518 - 27s - loss: 0.4086 - accuracy: 0.8174 - val_loss: 0.3812 - val_accuracy: 0.8346\n",
      "Epoch 6/30\n",
      "518/518 - 19s - loss: 0.3757 - accuracy: 0.8358 - val_loss: 0.3692 - val_accuracy: 0.8369\n",
      "Epoch 7/30\n",
      "518/518 - 20s - loss: 0.3492 - accuracy: 0.8460 - val_loss: 0.3292 - val_accuracy: 0.8586\n",
      "Epoch 8/30\n",
      "518/518 - 19s - loss: 0.3273 - accuracy: 0.8553 - val_loss: 0.3157 - val_accuracy: 0.8655\n",
      "Epoch 9/30\n",
      "518/518 - 22s - loss: 0.3003 - accuracy: 0.8688 - val_loss: 0.3027 - val_accuracy: 0.8624\n",
      "Epoch 10/30\n",
      "518/518 - 19s - loss: 0.2804 - accuracy: 0.8825 - val_loss: 0.2970 - val_accuracy: 0.8740\n",
      "Epoch 11/30\n",
      "518/518 - 20s - loss: 0.2585 - accuracy: 0.8939 - val_loss: 0.2722 - val_accuracy: 0.8825\n",
      "Epoch 12/30\n",
      "518/518 - 20s - loss: 0.2432 - accuracy: 0.8999 - val_loss: 0.2715 - val_accuracy: 0.8833\n",
      "Epoch 13/30\n",
      "518/518 - 19s - loss: 0.2300 - accuracy: 0.9088 - val_loss: 0.2587 - val_accuracy: 0.8856\n",
      "Epoch 14/30\n",
      "518/518 - 21s - loss: 0.2160 - accuracy: 0.9080 - val_loss: 0.2501 - val_accuracy: 0.8941\n",
      "Epoch 15/30\n",
      "518/518 - 22s - loss: 0.1976 - accuracy: 0.9243 - val_loss: 0.2516 - val_accuracy: 0.9019\n",
      "Epoch 16/30\n",
      "518/518 - 20s - loss: 0.1840 - accuracy: 0.9266 - val_loss: 0.2681 - val_accuracy: 0.8926\n",
      "Epoch 17/30\n",
      "518/518 - 19s - loss: 0.1680 - accuracy: 0.9341 - val_loss: 0.2475 - val_accuracy: 0.9034\n",
      "Epoch 18/30\n",
      "518/518 - 20s - loss: 0.1601 - accuracy: 0.9384 - val_loss: 0.2485 - val_accuracy: 0.9042\n",
      "Epoch 19/30\n",
      "518/518 - 20s - loss: 0.1459 - accuracy: 0.9453 - val_loss: 0.2481 - val_accuracy: 0.9034\n",
      "Epoch 20/30\n",
      "518/518 - 20s - loss: 0.1326 - accuracy: 0.9502 - val_loss: 0.2841 - val_accuracy: 0.8957\n",
      "Epoch 21/30\n",
      "518/518 - 19s - loss: 0.1226 - accuracy: 0.9517 - val_loss: 0.2621 - val_accuracy: 0.9042\n",
      "Epoch 22/30\n",
      "518/518 - 20s - loss: 0.1134 - accuracy: 0.9604 - val_loss: 0.2714 - val_accuracy: 0.9019\n"
     ]
    }
   ],
   "source": [
    "historyD = modelD.fit(x=X, y=Y, validation_split = 0.2, batch_size=10, epochs=30, shuffle=True, verbose=2, callbacks=[callback])\n",
    "modelD.save('modelos/modeloD.h5')"
   ]
  },
  {
   "cell_type": "markdown",
   "metadata": {},
   "source": [
    "# Binary Neural Network E - EarlyStopped Model C\n",
    "### Create Neural Network"
   ]
  },
  {
   "cell_type": "code",
   "execution_count": 14,
   "metadata": {
    "scrolled": false
   },
   "outputs": [
    {
     "name": "stdout",
     "output_type": "stream",
     "text": [
      "Model: \"sequential_2\"\n",
      "_________________________________________________________________\n",
      "Layer (type)                 Output Shape              Param #   \n",
      "=================================================================\n",
      "conv2d_8 (Conv2D)            (None, 50, 50, 32)        320       \n",
      "_________________________________________________________________\n",
      "max_pooling2d_8 (MaxPooling2 (None, 25, 25, 32)        0         \n",
      "_________________________________________________________________\n",
      "conv2d_9 (Conv2D)            (None, 25, 25, 64)        18496     \n",
      "_________________________________________________________________\n",
      "max_pooling2d_9 (MaxPooling2 (None, 12, 12, 64)        0         \n",
      "_________________________________________________________________\n",
      "conv2d_10 (Conv2D)           (None, 12, 12, 128)       73856     \n",
      "_________________________________________________________________\n",
      "max_pooling2d_10 (MaxPooling (None, 6, 6, 128)         0         \n",
      "_________________________________________________________________\n",
      "conv2d_11 (Conv2D)           (None, 6, 6, 128)         147584    \n",
      "_________________________________________________________________\n",
      "max_pooling2d_11 (MaxPooling (None, 3, 3, 128)         0         \n",
      "_________________________________________________________________\n",
      "dropout_2 (Dropout)          (None, 3, 3, 128)         0         \n",
      "_________________________________________________________________\n",
      "flatten_2 (Flatten)          (None, 1152)              0         \n",
      "_________________________________________________________________\n",
      "dense_4 (Dense)              (None, 512)               590336    \n",
      "_________________________________________________________________\n",
      "dense_5 (Dense)              (None, 1)                 513       \n",
      "=================================================================\n",
      "Total params: 831,105\n",
      "Trainable params: 831,105\n",
      "Non-trainable params: 0\n",
      "_________________________________________________________________\n"
     ]
    }
   ],
   "source": [
    "callback = EarlyStopping(monitor=\"val_loss\", mode=\"auto\", min_delta=1e-3, patience=5, restore_best_weights=True)\n",
    "modelE = Sequential([\n",
    "    Conv2D(filters=32, kernel_size=(3,3), activation='relu', padding='same', input_shape=(50,50,1)),\n",
    "    MaxPool2D(pool_size=(2,2), strides=2),\n",
    "    Conv2D(filters=64, kernel_size=(3,3), activation='relu', padding='same', input_shape=(50,50,1)),\n",
    "    MaxPool2D(pool_size=(2,2), strides=2),\n",
    "    Conv2D(filters=128, kernel_size=(3,3), activation='relu', padding='same', input_shape=(50,50,1)),\n",
    "    MaxPool2D(pool_size=(2,2), strides=2),\n",
    "    Conv2D(filters=128, kernel_size=(3,3), activation='relu', padding='same', input_shape=(50,50,1)),\n",
    "    MaxPool2D(pool_size=(2,2), strides=2),\n",
    "    Dropout(0.5),\n",
    "    Flatten(),\n",
    "    Dense(units=512, activation='relu'),\n",
    "    Dense(units=1, activation='sigmoid')\n",
    "])\n",
    "modelE.summary()\n",
    "learning_rate_decay = ExponentialDecay(0.0001, decay_steps=100000, decay_rate=0.96, staircase=True)\n",
    "optimizer = RMSprop(learning_rate_decay)\n",
    "modelE.compile(optimizer=optimizer, loss='binary_crossentropy', metrics=['accuracy'])"
   ]
  },
  {
   "cell_type": "markdown",
   "metadata": {},
   "source": [
    "### Network Train"
   ]
  },
  {
   "cell_type": "code",
   "execution_count": 15,
   "metadata": {
    "scrolled": true
   },
   "outputs": [
    {
     "name": "stdout",
     "output_type": "stream",
     "text": [
      "Epoch 1/30\n",
      "518/518 - 23s - loss: 0.6258 - accuracy: 0.6316 - val_loss: 0.5946 - val_accuracy: 0.6917\n",
      "Epoch 2/30\n",
      "518/518 - 20s - loss: 0.5618 - accuracy: 0.7092 - val_loss: 0.5302 - val_accuracy: 0.7334\n",
      "Epoch 3/30\n",
      "518/518 - 21s - loss: 0.5000 - accuracy: 0.7548 - val_loss: 0.4677 - val_accuracy: 0.7798\n",
      "Epoch 4/30\n",
      "518/518 - 24s - loss: 0.4494 - accuracy: 0.7877 - val_loss: 0.4260 - val_accuracy: 0.8145\n",
      "Epoch 5/30\n",
      "518/518 - 21s - loss: 0.4108 - accuracy: 0.8155 - val_loss: 0.3853 - val_accuracy: 0.8315\n",
      "Epoch 6/30\n",
      "518/518 - 19s - loss: 0.3821 - accuracy: 0.8308 - val_loss: 0.3670 - val_accuracy: 0.8393\n",
      "Epoch 7/30\n",
      "518/518 - 26s - loss: 0.3536 - accuracy: 0.8464 - val_loss: 0.3596 - val_accuracy: 0.8462\n",
      "Epoch 8/30\n",
      "518/518 - 27s - loss: 0.3317 - accuracy: 0.8557 - val_loss: 0.3582 - val_accuracy: 0.8431\n",
      "Epoch 9/30\n",
      "518/518 - 21s - loss: 0.3122 - accuracy: 0.8607 - val_loss: 0.3130 - val_accuracy: 0.8640\n",
      "Epoch 10/30\n",
      "518/518 - 21s - loss: 0.2911 - accuracy: 0.8810 - val_loss: 0.2994 - val_accuracy: 0.8717\n",
      "Epoch 11/30\n",
      "518/518 - 22s - loss: 0.2740 - accuracy: 0.8903 - val_loss: 0.3161 - val_accuracy: 0.8663\n",
      "Epoch 12/30\n",
      "518/518 - 22s - loss: 0.2559 - accuracy: 0.8945 - val_loss: 0.2777 - val_accuracy: 0.8833\n",
      "Epoch 13/30\n",
      "518/518 - 23s - loss: 0.2451 - accuracy: 0.9011 - val_loss: 0.2754 - val_accuracy: 0.8887\n",
      "Epoch 14/30\n",
      "518/518 - 22s - loss: 0.2299 - accuracy: 0.9026 - val_loss: 0.2679 - val_accuracy: 0.8910\n",
      "Epoch 15/30\n",
      "518/518 - 21s - loss: 0.2101 - accuracy: 0.9140 - val_loss: 0.2683 - val_accuracy: 0.8903\n",
      "Epoch 16/30\n",
      "518/518 - 20s - loss: 0.1989 - accuracy: 0.9185 - val_loss: 0.2786 - val_accuracy: 0.8926\n",
      "Epoch 17/30\n",
      "518/518 - 23s - loss: 0.1851 - accuracy: 0.9262 - val_loss: 0.2662 - val_accuracy: 0.8949\n",
      "Epoch 18/30\n",
      "518/518 - 21s - loss: 0.1723 - accuracy: 0.9337 - val_loss: 0.2702 - val_accuracy: 0.8957\n",
      "Epoch 19/30\n",
      "518/518 - 21s - loss: 0.1630 - accuracy: 0.9362 - val_loss: 0.2599 - val_accuracy: 0.8903\n",
      "Epoch 20/30\n",
      "518/518 - 21s - loss: 0.1491 - accuracy: 0.9413 - val_loss: 0.2602 - val_accuracy: 0.8964\n",
      "Epoch 21/30\n",
      "518/518 - 20s - loss: 0.1434 - accuracy: 0.9455 - val_loss: 0.2664 - val_accuracy: 0.8988\n",
      "Epoch 22/30\n",
      "518/518 - 21s - loss: 0.1373 - accuracy: 0.9478 - val_loss: 0.2672 - val_accuracy: 0.8941\n",
      "Epoch 23/30\n",
      "518/518 - 21s - loss: 0.1221 - accuracy: 0.9552 - val_loss: 0.2656 - val_accuracy: 0.8934\n",
      "Epoch 24/30\n",
      "518/518 - 21s - loss: 0.1175 - accuracy: 0.9577 - val_loss: 0.2820 - val_accuracy: 0.8941\n"
     ]
    }
   ],
   "source": [
    "historyE = modelE.fit(x=X, y=Y, validation_split = 0.2, batch_size=10, epochs=30, shuffle=True, verbose=2, callbacks=[callback])\n",
    "modelE.save('modelos/modeloE.h5')"
   ]
  },
  {
   "cell_type": "markdown",
   "metadata": {},
   "source": [
    "# Compare Models"
   ]
  },
  {
   "cell_type": "code",
   "execution_count": 28,
   "metadata": {},
   "outputs": [
    {
     "name": "stdout",
     "output_type": "stream",
     "text": [
      "         Accuracy ->  0.9034 % 0.89026 %\n",
      "Balanced Accuracy ->  0.9015 % 0.88694 %\n"
     ]
    }
   ],
   "source": [
    "modelD = load_model('modelos/modeloD.h5')\n",
    "modelE = load_model('modelos/modeloE.h5')\n",
    "\n",
    "predictionsD = modelD.predict(x=Xtest, batch_size=10, verbose=0)\n",
    "predictionsE = modelE.predict(x=Xtest, batch_size=10, verbose=0)\n",
    "rounded_predictionsD = np.round(predictionsD)\n",
    "rounded_predictionsE = np.round(predictionsE)\n",
    "\n",
    "AccD = accuracy_score(y_true = Ytest, y_pred = rounded_predictionsD)\n",
    "AccE = accuracy_score(y_true = Ytest, y_pred = rounded_predictionsE)\n",
    "BAccD = balanced_accuracy_score(y_true = Ytest, y_pred = rounded_predictionsD)\n",
    "BAccE = balanced_accuracy_score(y_true = Ytest, y_pred = rounded_predictionsE)\n",
    "\n",
    "print(\"         Accuracy -> \", np.round(AccD, 5), \"%\", np.round(AccE, 5), \"%\")\n",
    "print(\"Balanced Accuracy -> \", np.round(BAccD, 5), \"%\", np.round(BAccE, 5), \"%\")"
   ]
  },
  {
   "cell_type": "code",
   "execution_count": 18,
   "metadata": {},
   "outputs": [
    {
     "data": {
      "text/plain": [
       "[<matplotlib.lines.Line2D at 0x1c78c76b4f0>]"
      ]
     },
     "execution_count": 18,
     "metadata": {},
     "output_type": "execute_result"
    },
    {
     "data": {
      "image/png": "[encoded data removed]",
      "text/plain": [
       "<Figure size 1440x720 with 4 Axes>"
      ]
     },
     "metadata": {
      "needs_background": "light"
     },
     "output_type": "display_data"
    }
   ],
   "source": [
    "fig, ax = plt.subplots(2, 2, figsize=(20,10))\n",
    "ax[0,0].plot(historyD.history['accuracy'])\n",
    "ax[0,0].plot(historyD.history['val_accuracy'])\n",
    "ax[0,1].plot(historyD.history['loss'])\n",
    "ax[0,1].plot(historyD.history['val_loss'])\n",
    "ax[1,0].plot(historyE.history['accuracy'])\n",
    "ax[1,0].plot(historyE.history['val_accuracy'])\n",
    "ax[1,1].plot(historyE.history['loss'])\n",
    "ax[1,1].plot(historyE.history['val_loss'])"
   ]
  },
  {
   "cell_type": "markdown",
   "metadata": {},
   "source": [
    "# Model Choice and Prediction"
   ]
  },
  {
   "cell_type": "code",
   "execution_count": 29,
   "metadata": {},
   "outputs": [],
   "source": [
    "final_model = load_model('modelos/modeloD.h5')\n",
    "predictions = final_model.predict(x=XTrue, batch_size=10, verbose=0)\n",
    "rounded_predictions = np.round(predictions)\n",
    "rounded_predictions = rounded_predictions.squeeze()"
   ]
  },
  {
   "cell_type": "markdown",
   "metadata": {},
   "source": [
    "### Generate YTrue"
   ]
  },
  {
   "cell_type": "code",
   "execution_count": 30,
   "metadata": {},
   "outputs": [],
   "source": [
    "np.save(\"Ytest_Classification_Part1\", rounded_predictions)"
   ]
  },
  {
   "cell_type": "code",
   "execution_count": 23,
   "metadata": {},
   "outputs": [
    {
     "name": "stdout",
     "output_type": "stream",
     "text": [
      "1.0\n"
     ]
    },
    {
     "data": {
      "image/png": "[encoded data removed]",
      "text/plain": [
       "<Figure size 432x288 with 1 Axes>"
      ]
     },
     "metadata": {
      "needs_background": "light"
     },
     "output_type": "display_data"
    }
   ],
   "source": [
    "i = 58\n",
    "plt.imshow(XTrue[i], cmap='gray')\n",
    "print(rounded_predictions[i])"
   ]
  },
  {
   "cell_type": "code",
   "execution_count": 24,
   "metadata": {},
   "outputs": [
    {
     "data": {
      "text/plain": [
       "(1164,)"
      ]
     },
     "execution_count": 24,
     "metadata": {},
     "output_type": "execute_result"
    }
   ],
   "source": [
    "rounded_predictions.shape"
   ]
  },
  {
   "cell_type": "code",
   "execution_count": null,
   "metadata": {},
   "outputs": [],
   "source": []
  }
 ],
 "metadata": {
  "kernelspec": {
   "display_name": "Python 3",
   "language": "python",
   "name": "python3"
  },
  "language_info": {
   "codemirror_mode": {
    "name": "ipython",
    "version": 3
   },
   "file_extension": ".py",
   "mimetype": "text/x-python",
   "name": "python",
   "nbconvert_exporter": "python",
   "pygments_lexer": "ipython3",
   "version": "3.8.5"
  }
 },
 "nbformat": 4,
 "nbformat_minor": 5
}
